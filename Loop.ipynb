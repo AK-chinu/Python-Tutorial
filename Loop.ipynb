{
 "cells": [
  {
   "cell_type": "markdown",
   "metadata": {},
   "source": [
    "### Loop Stmts\n",
    "- In loop, the statements are sequentially executed, execution of first function statement is done first, then second and so on.\n",
    "- In situation where you need to perform a block of code many times then loop statement will come in to picture.\n",
    "- It allows to execute/run group of statements or a statement multiple time."
   ]
  },
  {
   "cell_type": "markdown",
   "metadata": {},
   "source": [
    "### While Loop\n",
    "-It repeats a statement or multiple statements when a provided condition is True.\n",
    "- Before performing a loop body it check for a condition"
   ]
  },
  {
   "cell_type": "code",
   "execution_count": 5,
   "metadata": {},
   "outputs": [
    {
     "name": "stdout",
     "output_type": "stream",
     "text": [
      "1\n",
      "2\n",
      "3\n",
      "4\n",
      "5\n",
      "Total Money : 50\n"
     ]
    }
   ],
   "source": [
    "''' A child is learning to count number of 10 rupess in his hand \n",
    "and here we have given 5 notes of 10 rupess. \n",
    "Output will display the counting of notes and total amount'''\n",
    "notes=5\n",
    "i=1\n",
    "while i<=notes:\n",
    "    print(i)\n",
    "    i+=1\n",
    "print(\"Total Money :\",notes*10)\n"
   ]
  },
  {
   "cell_type": "code",
   "execution_count": 6,
   "metadata": {},
   "outputs": [
    {
     "name": "stdout",
     "output_type": "stream",
     "text": [
      "1\n",
      "2\n",
      "3\n",
      "4\n",
      "5\n",
      "No 10 rupees note left\n",
      "Total Money:  50 Rupees\n"
     ]
    }
   ],
   "source": [
    "'''Continuing with same example, \n",
    "here we using else statement'''\n",
    "\n",
    "notes = 5\n",
    "i=1 # starting number intialize\n",
    "while i<=notes:\n",
    "    print(i)\n",
    "    i += 1\n",
    "else:\n",
    "    print(\"No 10 rupees note left\")\n",
    "print('Total Money: ',notes*10,'Rupees')"
   ]
  },
  {
   "cell_type": "markdown",
   "metadata": {},
   "source": [
    "### For Loop\n",
    "- Here for loop statement is used to iterates over an item at any order, items can be a string or a list."
   ]
  },
  {
   "cell_type": "code",
   "execution_count": 7,
   "metadata": {},
   "outputs": [
    {
     "name": "stdout",
     "output_type": "stream",
     "text": [
      "Mango\n",
      "Cherry\n",
      "Apple\n",
      "Orange\n"
     ]
    }
   ],
   "source": [
    "'''Continuing the previous example with using else statement'''\n",
    "fruits_list=[\"Mango\",\"Cherry\",\"Apple\",\"Orange\"]\n",
    "for x in fruits_list:\n",
    "    print(x)"
   ]
  },
  {
   "cell_type": "code",
   "execution_count": 8,
   "metadata": {},
   "outputs": [
    {
     "name": "stdout",
     "output_type": "stream",
     "text": [
      "Mango\n",
      "Cherry\n",
      "Apple\n",
      "Papaya\n",
      "Banana\n",
      "List has no fruit left!\n"
     ]
    }
   ],
   "source": [
    "'''Continuing the previous example with using else statement'''\n",
    "fruits_list = [\"Mango\",\"Cherry\",\"Apple\",\"Papaya\",\"Banana\"] ## List containing friuts name\n",
    "for x in fruits_list:\n",
    "    print(x)\n",
    "else:\n",
    "    print(\"List has no fruit left!\")"
   ]
  },
  {
   "cell_type": "code",
   "execution_count": 9,
   "metadata": {},
   "outputs": [
    {
     "name": "stdout",
     "output_type": "stream",
     "text": [
      "M\n",
      "a\n",
      "n\n",
      "g\n",
      "o\n"
     ]
    }
   ],
   "source": [
    "'''An iterative example of string is shown here'''\n",
    "f_name=\"Mango\"## String as input\n",
    "for x in f_name:\n",
    "    print(x)"
   ]
  },
  {
   "cell_type": "markdown",
   "metadata": {},
   "source": [
    "### Nested Loop\n",
    "- Nested loops is used to create one and more number of loop inside an existing for or while loop."
   ]
  },
  {
   "cell_type": "code",
   "execution_count": 12,
   "metadata": {},
   "outputs": [
    {
     "name": "stdout",
     "output_type": "stream",
     "text": [
      "* \n",
      "* * \n",
      "* * * \n",
      "* * * * \n",
      "* * * * * \n",
      "* * * * * * \n",
      "* * * * * * * \n"
     ]
    }
   ],
   "source": [
    "'''Here we use nested for loop to create a triangle'''\n",
    "n=7 \n",
    "for i in range(0,n):\n",
    "    for j in range(0,i+1):\n",
    "        print(\"* \",end=\"\")\n",
    "    print(\"\\r\")"
   ]
  },
  {
   "cell_type": "code",
   "execution_count": 13,
   "metadata": {},
   "outputs": [],
   "source": [
    "## Pass stmts\n",
    "for i in [12,20,30,20]:\n",
    "    pass"
   ]
  },
  {
   "cell_type": "markdown",
   "metadata": {},
   "source": [
    "###  Break stmts\n",
    "- This statement used for a premature terminates of current loop immediately and executes the further statement, just like break statement in C language."
   ]
  },
  {
   "cell_type": "code",
   "execution_count": 14,
   "metadata": {},
   "outputs": [
    {
     "name": "stdout",
     "output_type": "stream",
     "text": [
      "1\n",
      "2\n",
      "3\n",
      "4\n"
     ]
    }
   ],
   "source": [
    "'''It is a simple example of break, \n",
    "where it immediatly terminate an operation of \n",
    "statement body when x is equal to 4'''\n",
    "\n",
    "x = 1\n",
    "while x < 7:\n",
    "    print(x)\n",
    "    if x == 4:\n",
    "        break\n",
    "    x += 1"
   ]
  },
  {
   "cell_type": "markdown",
   "metadata": {},
   "source": [
    "### continue stmt\n",
    "- When continue statement is encountered during an iteration, it directly goes to next iteration without performing remaining statements in present iteration. It returns execution to the starting point of current loop and start further iteration.\n",
    "\n",
    "Note: break and continue can be used in both while and for loop."
   ]
  },
  {
   "cell_type": "code",
   "execution_count": 16,
   "metadata": {},
   "outputs": [
    {
     "name": "stdout",
     "output_type": "stream",
     "text": [
      "1\n",
      "2\n",
      "3\n",
      "5\n",
      "6\n",
      "7\n"
     ]
    }
   ],
   "source": [
    "x = 0\n",
    "while x < 7:\n",
    "    x += 1\n",
    "    if x == 4:\n",
    "        continue\n",
    "    print(x)"
   ]
  },
  {
   "cell_type": "code",
   "execution_count": null,
   "metadata": {},
   "outputs": [],
   "source": []
  }
 ],
 "metadata": {
  "kernelspec": {
   "display_name": "Python 3",
   "language": "python",
   "name": "python3"
  },
  "language_info": {
   "codemirror_mode": {
    "name": "ipython",
    "version": 3
   },
   "file_extension": ".py",
   "mimetype": "text/x-python",
   "name": "python",
   "nbconvert_exporter": "python",
   "pygments_lexer": "ipython3",
   "version": "3.12.3"
  }
 },
 "nbformat": 4,
 "nbformat_minor": 2
}
