{
 "cells": [
  {
   "cell_type": "markdown",
   "metadata": {},
   "source": [
    "## Control Flow\n",
    "\n",
    "### Decision Making stmt\n",
    "- It is kind of making decision during occurred situation of program execution and action can be taken according to specified conditions.\n",
    "- Structure of decision making evaluate several expressions that provide True or False as a result.\n",
    "- It is up to you to decide which type of action want to take and execute the statements based upon True and False."
   ]
  },
  {
   "cell_type": "markdown",
   "metadata": {},
   "source": [
    "These are several topics of decision making which going to be discussed below:\n",
    "\n",
    "- if\n",
    "- if else\n",
    "- if elif else\n",
    "- Nested if\n",
    "- Single Statement Suites"
   ]
  },
  {
   "cell_type": "code",
   "execution_count": 3,
   "metadata": {},
   "outputs": [
    {
     "name": "stdout",
     "output_type": "stream",
     "text": [
      "You are eligible to vote\n"
     ]
    }
   ],
   "source": [
    "## if stmt\n",
    "age=int(input(\"Enter your age :\"))\n",
    "if age>=18:\n",
    "    print(\"You are eligible to vote\")"
   ]
  },
  {
   "cell_type": "code",
   "execution_count": 4,
   "metadata": {},
   "outputs": [],
   "source": [
    "##Task\n",
    "## Take a input of age\n",
    "## check whether age >=18 and age<=45\n",
    "## display a message you are young blood"
   ]
  },
  {
   "cell_type": "code",
   "execution_count": 5,
   "metadata": {},
   "outputs": [
    {
     "name": "stdout",
     "output_type": "stream",
     "text": [
      "You are a young blood\n"
     ]
    }
   ],
   "source": [
    "age=int(input(\"Enter your age :\"))\n",
    "if age>=18 and age<=45:\n",
    "    print(\"You are a young blood\")"
   ]
  },
  {
   "cell_type": "code",
   "execution_count": 6,
   "metadata": {},
   "outputs": [
    {
     "name": "stdout",
     "output_type": "stream",
     "text": [
      "It is an even number \n"
     ]
    }
   ],
   "source": [
    "## if else satetements\n",
    "num=int(input(\"Enter a positive number :\"))\n",
    "if num%2 ==0:\n",
    "    print(\"It is an even number \")\n",
    "else:\n",
    "    print(\"It is a odd number\")"
   ]
  },
  {
   "cell_type": "code",
   "execution_count": 7,
   "metadata": {},
   "outputs": [],
   "source": [
    "## mall - input the product price\n",
    "## product >1000 rs 20% off\n",
    "## print the product price after removing the discount\n",
    "## product <=1000 rs 30% off\n",
    "## print the product price after removing the discount"
   ]
  },
  {
   "cell_type": "code",
   "execution_count": 8,
   "metadata": {},
   "outputs": [
    {
     "name": "stdout",
     "output_type": "stream",
     "text": [
      "The price of the product is 700.0\n"
     ]
    }
   ],
   "source": [
    "product_price=int(input(\"Enter the price\"))\n",
    "if product_price>1000:\n",
    "    print(\"The price of the product is {}\".format(product_price*0.8))\n",
    "else:\n",
    "    print(\"The price of the product is {}\".format(product_price*0.7))"
   ]
  },
  {
   "cell_type": "code",
   "execution_count": 9,
   "metadata": {},
   "outputs": [],
   "source": [
    "## mall - input the product price\n",
    "## product >3000 rs 20% off\n",
    "## price is ==4000 you get a trip to Goa\n",
    "## print the product price after removing the discount\n",
    "## product >=2000 rs and <=3000 30% off\n",
    "## print the product price after removing the discount\n",
    "## price ==2999  u will get adiitional gift\n",
    "## product 100 rs and <=2000 40% off\n",
    "## print the product price after removing the discount"
   ]
  },
  {
   "cell_type": "code",
   "execution_count": 10,
   "metadata": {},
   "outputs": [
    {
     "name": "stdout",
     "output_type": "stream",
     "text": [
      "The price of the product is 600.0\n"
     ]
    }
   ],
   "source": [
    "# if elif else\n",
    "product_price=int(input(\"Enter the price\"))\n",
    "if product_price>3000:\n",
    "    if product_price==4000:\n",
    "        print(\"Congratulations you get a Goa Trip\")\n",
    "    print(f\"The price of the product is {product_price*0.8}\")\n",
    "elif product_price>=2000 and product_price<=3000:\n",
    "    if product_price==2999:\n",
    "        print(\"Congratulations you get an additional gift\")\n",
    "    print(f\"The price of the product is {product_price*0.7}\")\n",
    "elif product_price>=100 and product_price<2000:\n",
    "    print(f\"The price of the product is {product_price*0.6}\")\n",
    "else:\n",
    "    print(\"Lets drink tea\")\n",
    "    print(\"I will also be there\")"
   ]
  },
  {
   "cell_type": "code",
   "execution_count": 3,
   "metadata": {},
   "outputs": [
    {
     "name": "stdout",
     "output_type": "stream",
     "text": [
      "25  is the greatest number\n"
     ]
    }
   ],
   "source": [
    "# Nested if - else\n",
    "## Find greatest of 3 no.\n",
    "num1=int(input(\"Enter no 1\"))\n",
    "num2=int(input(\"Enter no 2\"))\n",
    "num3=int(input(\"Enter no 3\"))\n",
    "if num1 > num2:\n",
    "    if num1 > num3:\n",
    "        print(num1,\" is the geatest number\")\n",
    "    else:\n",
    "        print(num3,\" is the greatest number\")\n",
    "else:\n",
    "    print(num2,\" is the greatest number\")"
   ]
  },
  {
   "cell_type": "code",
   "execution_count": 5,
   "metadata": {},
   "outputs": [
    {
     "name": "stdout",
     "output_type": "stream",
     "text": [
      "Enter a valid operator\n"
     ]
    }
   ],
   "source": [
    "# Match case \n",
    "num1=int(input(\"Enter num 1\"))\n",
    "num2=int(input(\"Enter num 2\"))\n",
    "operator=input(\"Enter a operator\")\n",
    "match operator:\n",
    "    case \"+\":\n",
    "        print(\"sum is \",num1+num2)\n",
    "    case \"-\":\n",
    "        print(f\"Difference is {num1-num2}\")\n",
    "    case \"*\":\n",
    "        print(f\"multipication is \",{num1 * num2})\n",
    "    case _:\n",
    "        print(\"Enter a valid operator\")"
   ]
  },
  {
   "cell_type": "code",
   "execution_count": 7,
   "metadata": {},
   "outputs": [
    {
     "name": "stdout",
     "output_type": "stream",
     "text": [
      "output is : Even\n"
     ]
    }
   ],
   "source": [
    "## Ternarry Operator\n",
    "num=int(input(\"Enter a number\"))\n",
    "output=\"Even\" if num%2==0 else \"odd\"\n",
    "print(f\"output is : {output}\")"
   ]
  },
  {
   "cell_type": "code",
   "execution_count": null,
   "metadata": {},
   "outputs": [],
   "source": []
  }
 ],
 "metadata": {
  "kernelspec": {
   "display_name": "Python 3",
   "language": "python",
   "name": "python3"
  },
  "language_info": {
   "codemirror_mode": {
    "name": "ipython",
    "version": 3
   },
   "file_extension": ".py",
   "mimetype": "text/x-python",
   "name": "python",
   "nbconvert_exporter": "python",
   "pygments_lexer": "ipython3",
   "version": "3.12.3"
  }
 },
 "nbformat": 4,
 "nbformat_minor": 2
}
